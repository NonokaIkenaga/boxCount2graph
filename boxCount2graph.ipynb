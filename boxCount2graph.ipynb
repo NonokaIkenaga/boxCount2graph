{
 "cells": [
  {
   "cell_type": "markdown",
   "metadata": {},
   "source": [
    "必要なライブラリのインポート"
   ]
  },
  {
   "cell_type": "code",
   "execution_count": 1,
   "metadata": {},
   "outputs": [],
   "source": [
    "import pandas as pd\n",
    "import openpyxl\n",
    "from openpyxl import Workbook\n",
    "from openpyxl.chart import Reference, LineChart, Series\n",
    "from openpyxl.utils.dataframe import dataframe_to_rows\n",
    "from natsort import natsorted\n",
    "import glob\n",
    "from openpyxl.chart.shapes import GraphicalProperties\n",
    "from openpyxl.drawing.line import LineProperties\n",
    "from openpyxl.drawing.text import Paragraph, ParagraphProperties, CharacterProperties, RichTextProperties, Font\n",
    "from openpyxl.chart.text import RichText\n",
    "from openpyxl.utils.units import pixels_to_EMU\n",
    "import os"
   ]
  },
  {
   "cell_type": "markdown",
   "metadata": {},
   "source": [
    "グラフ凡例リスト,読み込む`csv`データリスト"
   ]
  },
  {
   "cell_type": "code",
   "execution_count": 2,
   "metadata": {},
   "outputs": [],
   "source": [
    "wb = Workbook()\n",
    "ws = wb.active\n",
    "# 読み込むcsvリスト.凡例に使う分類ごとにパスを適宜変えること.\n",
    "path_list1 = natsorted(glob.glob(\"**/open_noses/cough/t20/theta_0phi_5/1e5_re/*.csv\"))\n",
    "# 凡例に使うリスト\n",
    "# 距離比較\n",
    "path_list2 = natsorted(glob.glob(\"x*\"))\n",
    "\n",
    "# 温度比較\n",
    "path_list3 = []\n",
    "for f in natsorted(glob.glob('**/**/**/t*')):\n",
    "    path_list3.append(os.path.split(f)[1])\n",
    "\n",
    "# 会話or咳比較\n",
    "path_list4 = []\n",
    "for f in natsorted(glob.glob('**/**/c*')):\n",
    "    path_list4.append(os.path.split(f)[1])\n",
    "\n",
    "# 口呼吸or鼻呼吸比較\n",
    "path_list5 = []\n",
    "for f in natsorted(glob.glob('x500/o*')):\n",
    "    path_list5.append(os.path.split(f)[1])\n",
    "\n",
    "#首角度比較\n",
    "path_list6 = []\n",
    "for f in natsorted(glob.glob('x500/open_noses/cough/**/theta_*phi_*')):\n",
    "    path_list6.append(os.path.split(f)[1])\n",
    "\n",
    "#格子比較(感染者側の口周り格子)\n",
    "path_list7 = []\n",
    "for f in natsorted(glob.glob('**/**/**/**/**/lattice_*')):\n",
    "    path_list7.append(os.path.split(f)[1])"
   ]
  },
  {
   "cell_type": "markdown",
   "metadata": {},
   "source": [
    "`csv`データ抽出,グラフ用データ追記"
   ]
  },
  {
   "cell_type": "code",
   "execution_count": 3,
   "metadata": {},
   "outputs": [],
   "source": [
    "for index in range(0,3):\n",
    "    df = pd.read_csv(path_list1[index])\n",
    "    df[\"volume[*1e-9ml]\"] = df[\"volume[ml]\"]*1e9\n",
    "    Data = df[[\"num_drop\",\"volume[*1e-9ml]\"]]\n",
    "    \n",
    "    #ここまでデータの抽出\n",
    "    ID = []\n",
    "    ID.extend(str(i) for i in range(1,54))\n",
    "    ID.extend(['LeftUp','LeftLow','RightUp','RightMid','RightLow'])\n",
    "    #leftup : 2 ~ 12\n",
    "    #leftlow : 13 ~ 24\n",
    "    #rightup : 25 ~ 35\n",
    "    #rightmid : 36 ~ 39\n",
    "    #rightlow : 40 ~ 54\n",
    "    Data_c = Data.copy()\n",
    "    Data_c.loc[\"leftup\"] = Data_c.iloc[0:11,:].sum()\n",
    "    Data_c.loc[\"leftlow\"] = Data_c.iloc[11:23,:].sum()\n",
    "    Data_c.loc[\"rightup\"] = Data_c.iloc[23:34,:].sum()\n",
    "    Data_c.loc[\"rightmid\"] = Data_c.iloc[34:38,:].sum()\n",
    "    Data_c.loc[\"rightlow\"] = Data_c.iloc[38:53,:].sum()\n",
    "    Data_c.insert(loc = 0, column = 'ID', value = ID) \n",
    "    outputData = Data_c.iloc[53:58]\n",
    "\n",
    "    for i in dataframe_to_rows(outputData,index=None,header=True):\n",
    "        ws.append(i)"
   ]
  },
  {
   "cell_type": "markdown",
   "metadata": {},
   "source": [
    "Chart1(飛沫数)基本設定"
   ]
  },
  {
   "cell_type": "code",
   "execution_count": 4,
   "metadata": {},
   "outputs": [],
   "source": [
    "#c1\n",
    "c1 = LineChart()\n",
    "\n",
    "c1.y_axis.title = \"number of droplets\"\n",
    "c1.x_axis.title = \"Airway site\"\n",
    "c1_data_row_min_list = [2,8,14]\n",
    "c1_data_row_max_list = [6,12,18]\n",
    "for index in range(0,3):\n",
    "    data = Reference(ws,min_col = 2,max_col=2, min_row=c1_data_row_min_list[index],max_row=c1_data_row_max_list[index])\n",
    "    \n",
    "    category = Reference(ws, min_col = 1, max_col=1, min_row=2, max_row= 6)\n",
    "    series = Series(data, title=path_list2[index])\n",
    "    c1.append(series)\n",
    "    c1.set_categories(category)"
   ]
  },
  {
   "cell_type": "markdown",
   "metadata": {},
   "source": [
    "Chart1オプション設定"
   ]
  },
  {
   "cell_type": "code",
   "execution_count": 5,
   "metadata": {},
   "outputs": [],
   "source": [
    "#option\n",
    "#ser1\n",
    "ser1=c1.series[0]\n",
    "\n",
    "ser1.marker.symbol = 'circle'     # マーカーの形状(円)を選択\n",
    "ser1.marker.size = 8              # マーカーの大きさを設定(整数)\n",
    "ser1.marker.graphicalProperties.solidFill = 'FF0000' # マーカーの塗り潰し色を設定\n",
    "ser1.marker.graphicalProperties.line.solidFill = 'FF0000'\n",
    "ser1.graphicalProperties.line.solidFill = 'FF0000' # 線の色を設定する\n",
    "ser1.graphicalProperties.line.width = pixels_to_EMU(1.0) # マーカーの太さ\n",
    "\n",
    "#ser2\n",
    "ser2=c1.series[1]\n",
    "\n",
    "ser2.marker.symbol = 'diamond'\n",
    "ser2.marker.size = 8\n",
    "ser2.marker.graphicalProperties.solidFill = '008000'\n",
    "ser2.marker.graphicalProperties.line.solidFill = '008000'\n",
    "ser2.graphicalProperties.line.solidFill = '008000'\n",
    "ser2.graphicalProperties.line.width = pixels_to_EMU(1.0)\n",
    "\n",
    "# #ser3\n",
    "ser3=c1.series[2]\n",
    "\n",
    "ser3.marker.symbol = 'square'\n",
    "ser3.marker.size = 8\n",
    "ser3.marker.graphicalProperties.solidFill = '0000FF'       \n",
    "ser3.marker.graphicalProperties.line.solidFill = '0000FF'\n",
    "ser3.graphicalProperties.line.solidFill = '0000FF'\n",
    "ser3.graphicalProperties.line.width = pixels_to_EMU(1.0)\n",
    "\n",
    "#axis\n",
    "c1.x_axis.majorTickMark = \"in\"\n",
    "c1.y_axis.majorTickMark = \"in\"\n",
    "c1.y_axis.majorGridlines = None\n",
    "c1.x_axis.majorGridlines = None\n",
    "c1.graphical_properties = GraphicalProperties(ln=LineProperties(noFill=True))\n",
    "c1.plot_area.spPr = GraphicalProperties(ln = LineProperties(solidFill = \"000000\"))\n",
    "c1.x_axis.spPr = GraphicalProperties(ln =LineProperties(solidFill=\"000000\"))\n",
    "c1.y_axis.spPr = GraphicalProperties(ln =LineProperties(solidFill=\"000000\"))\n",
    "\n",
    "#font\n",
    "font = Font(typeface='Times New Roman')\n",
    "size = 1000 # 10 point size\n",
    "char_prop = CharacterProperties(latin=font, sz=size, b=True, solidFill=\"000000\") #\n",
    "para_prop = ParagraphProperties(defRPr=char_prop)\n",
    "c1.x_axis.title.tx.rich.p[0].pPr = para_prop\n",
    "c1.y_axis.title.tx.rich.p[0].pPr = para_prop\n",
    "\n",
    "char_prop = CharacterProperties(latin=font, sz=size, b=False) # b=Trueでボールドにする\n",
    "para_prop = ParagraphProperties(defRPr=char_prop)\n",
    "rich_text = RichText(p=[Paragraph(pPr=para_prop, endParaRPr=char_prop)])\n",
    "c1.legend.txPr = rich_text\n",
    "c1.x_axis.txPr = rich_text\n",
    "c1.y_axis.txPr = rich_text"
   ]
  },
  {
   "cell_type": "markdown",
   "metadata": {},
   "source": [
    "Chart2(飛沫体積)基本設定"
   ]
  },
  {
   "cell_type": "code",
   "execution_count": 6,
   "metadata": {},
   "outputs": [],
   "source": [
    "#c2\n",
    "c2 = LineChart()\n",
    "\n",
    "c2.y_axis.title = \"volume [*1e-9]\"\n",
    "c2.x_axis.title = \"Airway site\"\n",
    "\n",
    "c2_data_row_min_list = [2,8,14]\n",
    "c2_data_row_max_list = [6,12,18]\n",
    "for index in range(0,3):\n",
    "    data = Reference(ws,min_col = 3,max_col=3, min_row=c2_data_row_min_list[index],max_row=c2_data_row_max_list[index])\n",
    "\n",
    "    category = Reference(ws, min_col = 1, max_col=1, min_row=2, max_row= 6)\n",
    "\n",
    "    series = Series(data, title=path_list2[index])\n",
    "    c2.append(series)\n",
    "    c2.set_categories(category)"
   ]
  },
  {
   "cell_type": "markdown",
   "metadata": {},
   "source": [
    "Chart2オプション設定"
   ]
  },
  {
   "cell_type": "code",
   "execution_count": 7,
   "metadata": {},
   "outputs": [],
   "source": [
    "#option\n",
    "#ser4\n",
    "ser4=c2.series[0]\n",
    "\n",
    "ser4.marker.symbol = 'circle'\n",
    "ser4.marker.size = 8\n",
    "ser4.marker.graphicalProperties.solidFill = 'FF0000'\n",
    "ser4.marker.graphicalProperties.line.solidFill = 'FF0000'\n",
    "ser4.graphicalProperties.line.solidFill = 'FF0000'\n",
    "ser4.graphicalProperties.line.width = pixels_to_EMU(1.0)\n",
    "\n",
    "#ser5\n",
    "ser5=c2.series[1]\n",
    "\n",
    "ser5.marker.symbol = 'diamond'\n",
    "ser5.marker.size = 8\n",
    "ser5.marker.graphicalProperties.solidFill = '008000'\n",
    "ser5.marker.graphicalProperties.line.solidFill = '008000'\n",
    "ser5.graphicalProperties.line.solidFill = '008000'\n",
    "ser5.graphicalProperties.line.width = pixels_to_EMU(1.0)\n",
    "\n",
    "# #ser6\n",
    "ser6=c2.series[2]\n",
    "\n",
    "ser6.marker.symbol = 'square'\n",
    "ser6.marker.size = 8\n",
    "ser6.marker.graphicalProperties.solidFill = '0000FF'\n",
    "ser6.marker.graphicalProperties.line.solidFill = '0000FF'\n",
    "ser6.graphicalProperties.line.solidFill = '0000FF'\n",
    "ser6.graphicalProperties.line.width = pixels_to_EMU(1.0)\n",
    "\n",
    "c2.x_axis.majorTickMark = \"in\"\n",
    "c2.y_axis.majorTickMark = \"in\"\n",
    "c2.y_axis.majorGridlines = None\n",
    "c2.x_axis.majorGridlines = None\n",
    "c2.graphical_properties = GraphicalProperties(ln=LineProperties(noFill=True))\n",
    "c2.plot_area.spPr = GraphicalProperties(ln = LineProperties(solidFill = \"000000\"))\n",
    "c2.x_axis.spPr = GraphicalProperties(ln =LineProperties(solidFill=\"000000\"))\n",
    "c2.y_axis.spPr = GraphicalProperties(ln =LineProperties(solidFill=\"000000\"))\n",
    "\n",
    "#font\n",
    "font = Font(typeface='Times New Roman')\n",
    "size = 1000 # 10 point size\n",
    "char_prop = CharacterProperties(latin=font, sz=size, b=True, solidFill=\"000000\") #\n",
    "para_prop = ParagraphProperties(defRPr=char_prop)\n",
    "c2.x_axis.title.tx.rich.p[0].pPr = para_prop\n",
    "c2.y_axis.title.tx.rich.p[0].pPr = para_prop\n",
    "\n",
    "char_prop = CharacterProperties(latin=font, sz=size, b=False) # b=Trueでボールドにする\n",
    "para_prop = ParagraphProperties(defRPr=char_prop)\n",
    "rich_text = RichText(p=[Paragraph(pPr=para_prop, endParaRPr=char_prop)])\n",
    "c2.legend.txPr = rich_text\n",
    "c2.x_axis.txPr = rich_text\n",
    "c2.y_axis.txPr = rich_text"
   ]
  },
  {
   "cell_type": "markdown",
   "metadata": {},
   "source": [
    "Chart1,Chart2,`xlsx`ファイル出力設定"
   ]
  },
  {
   "cell_type": "code",
   "execution_count": 8,
   "metadata": {},
   "outputs": [],
   "source": [
    "ws.add_chart(c1, \"B22\")\n",
    "ws.add_chart(c2,\"K22\")\n",
    "# 出力結果ファイル名指定.かぶりを防ぐためケースごとに名前を変更すること.\n",
    "wb.save(\"./result/BoxCountResult_noses_cough_x500-1000_phi0_5_1e5_re.xlsx\")"
   ]
  },
  {
   "cell_type": "markdown",
   "metadata": {},
   "source": [
    "`glob`テスト用"
   ]
  },
  {
   "cell_type": "code",
   "execution_count": 9,
   "metadata": {},
   "outputs": [
    {
     "data": {
      "text/plain": [
       "['x500\\\\open_noses\\\\cough\\\\t20\\\\theta_0phi_5\\\\1e5\\\\BoxCount.csv',\n",
       " 'x750\\\\open_noses\\\\cough\\\\t20\\\\theta_0phi_5\\\\1e5\\\\BoxCount.csv',\n",
       " 'x1000\\\\open_noses\\\\cough\\\\t20\\\\theta_0phi_5\\\\1e5\\\\BoxCount.csv']"
      ]
     },
     "execution_count": 9,
     "metadata": {},
     "output_type": "execute_result"
    }
   ],
   "source": [
    "import glob\n",
    "from natsort import natsorted\n",
    "path_list1 = natsorted(glob.glob(\"**/open_noses/cough/t20/theta_0phi_5/1e5/*.csv\"))\n",
    "path_list1"
   ]
  },
  {
   "cell_type": "code",
   "execution_count": 10,
   "metadata": {},
   "outputs": [
    {
     "data": {
      "text/plain": [
       "['theta_0phi_0', 'theta_0phi_5', 'theta_0phi_-5']"
      ]
     },
     "execution_count": 10,
     "metadata": {},
     "output_type": "execute_result"
    }
   ],
   "source": [
    "import glob\n",
    "from natsort import natsorted\n",
    "path_list6 = []\n",
    "for f in natsorted(glob.glob('x500/open_noses/cough/**/theta_*phi_*')):\n",
    "    path_list6.append(os.path.split(f)[1])\n",
    "path_list6"
   ]
  }
 ],
 "metadata": {
  "kernelspec": {
   "display_name": "base",
   "language": "python",
   "name": "python3"
  },
  "language_info": {
   "codemirror_mode": {
    "name": "ipython",
    "version": 3
   },
   "file_extension": ".py",
   "mimetype": "text/x-python",
   "name": "python",
   "nbconvert_exporter": "python",
   "pygments_lexer": "ipython3",
   "version": "3.11.5"
  }
 },
 "nbformat": 4,
 "nbformat_minor": 2
}
