{
 "cells": [
  {
   "cell_type": "markdown",
   "metadata": {},
   "source": [
    "`BoxCount.csv`の足し算結果だけ出力するプログラム"
   ]
  },
  {
   "cell_type": "markdown",
   "metadata": {},
   "source": [
    "必要なライブラリのインポート"
   ]
  },
  {
   "cell_type": "code",
   "execution_count": null,
   "metadata": {},
   "outputs": [],
   "source": [
    "import pandas as pd\n",
    "import openpyxl\n",
    "from openpyxl import Workbook\n",
    "from openpyxl.utils.dataframe import dataframe_to_rows\n",
    "from natsort import natsorted\n",
    "import glob\n",
    "import os"
   ]
  },
  {
   "cell_type": "markdown",
   "metadata": {},
   "source": [
    "読み込み設定"
   ]
  },
  {
   "cell_type": "code",
   "execution_count": null,
   "metadata": {},
   "outputs": [],
   "source": [
    "wb = Workbook()\n",
    "ws = wb.active\n",
    "# 読み込むcsvリスト.凡例に使う分類ごとにパスを適宜変えること.\n",
    "path_list1 = natsorted(glob.glob(\"**/open_noses/cough/t20/theta_0phi_0/1e5/*.csv\"))"
   ]
  },
  {
   "cell_type": "markdown",
   "metadata": {},
   "source": [
    "データ抽出"
   ]
  },
  {
   "cell_type": "code",
   "execution_count": null,
   "metadata": {},
   "outputs": [],
   "source": [
    "for index in range(0,1):\n",
    "    df = pd.read_csv(path_list1[index])\n",
    "    df[\"volume[*1e-9ml]\"] = df[\"volume[ml]\"]*1e9\n",
    "    Data = df[[\"num_drop\",\"volume[*1e-9ml]\"]]\n",
    "    \n",
    "    #ここまでデータの抽出\n",
    "    ID = []\n",
    "    ID.extend(str(i) for i in range(1,54))\n",
    "    ID.extend(['LeftUp','LeftLow','RightUp','RightMid','RightLow'])\n",
    "    #leftup : 2 ~ 12\n",
    "    #leftlow : 13 ~ 24\n",
    "    #rightup : 25 ~ 35\n",
    "    #rightmid : 36 ~ 39\n",
    "    #rightlow : 40 ~ 54\n",
    "    Data_c = Data.copy()\n",
    "    Data_c.loc[\"leftup\"] = Data_c.iloc[0:11,:].sum()\n",
    "    Data_c.loc[\"leftlow\"] = Data_c.iloc[11:23,:].sum()\n",
    "    Data_c.loc[\"rightup\"] = Data_c.iloc[23:34,:].sum()\n",
    "    Data_c.loc[\"rightmid\"] = Data_c.iloc[34:38,:].sum()\n",
    "    Data_c.loc[\"rightlow\"] = Data_c.iloc[38:53,:].sum()\n",
    "    Data_c.insert(loc = 0, column = 'ID', value = ID) \n",
    "    outputData = Data_c.iloc[53:58]\n",
    "\n",
    "    for i in dataframe_to_rows(outputData,index=None,header=True):\n",
    "        ws.append(i)"
   ]
  },
  {
   "cell_type": "markdown",
   "metadata": {},
   "source": [
    "保存"
   ]
  },
  {
   "cell_type": "code",
   "execution_count": null,
   "metadata": {},
   "outputs": [],
   "source": [
    "# 出力結果ファイル名指定.かぶりを防ぐためケースごとに名前を変更すること.\n",
    "wb.save(\"./result/CountCalc/BoxCountResult_noses_cough_x500.xlsx\")"
   ]
  }
 ],
 "metadata": {
  "language_info": {
   "name": "python"
  }
 },
 "nbformat": 4,
 "nbformat_minor": 2
}
